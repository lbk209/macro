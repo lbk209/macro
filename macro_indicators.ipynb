{
 "cells": [
  {
   "cell_type": "markdown",
   "id": "edddda7f-754c-437d-b367-a08bddb0a3d2",
   "metadata": {},
   "source": [
    "# Data"
   ]
  },
  {
   "cell_type": "markdown",
   "id": "356e8661-52f7-4920-8158-9f6fad07b221",
   "metadata": {},
   "source": [
    "## Generate"
   ]
  },
  {
   "cell_type": "code",
   "execution_count": 3,
   "id": "d5b644f2-fc6f-4054-9d60-539a2e67b497",
   "metadata": {},
   "outputs": [],
   "source": [
    "import pandas as pd\n",
    "import FinanceDataReader as fdr\n",
    "import plotly.express as px"
   ]
  },
  {
   "cell_type": "code",
   "execution_count": 4,
   "id": "d2f38656-0543-4f8b-9171-c167f17ad64e",
   "metadata": {},
   "outputs": [],
   "source": [
    "tickers = ['KS11', 'S&P500', 'CL=F', 'GC=F', 'USD/KRW', 'US10YT', '^NYICDX', 'SSEC', 'HSI', 'N225', 'FTSE', 'GDAXI', 'USD/EUR',\n",
    "          'USD/CNY', 'USD/JPY', '^STOXX50E']\n",
    "names = ['KOSPI', 'S&P500', 'WTI', 'GOLD', 'USD/KRW', 'US10YT', 'DXY', 'SSEC', 'HSI', 'N225', 'FTSE100', 'DAX30', 'USD/EUR',\n",
    "        'USD/CNY', 'USD/JPY', 'STOXX50']\n",
    "column = 'Close'\n",
    "\n",
    "df_macro = None\n",
    "for name, tkr in zip(names, tickers):\n",
    "    df = fdr.DataReader(tkr)\n",
    "    df = df[column].rename(name)\n",
    "    if df_macro is None:\n",
    "        df_macro = df\n",
    "    else:\n",
    "        df_macro = pd.concat([df_macro, df], axis=1)"
   ]
  },
  {
   "cell_type": "code",
   "execution_count": 5,
   "id": "2ab6c198-1a67-4078-b324-587e2f7a740b",
   "metadata": {},
   "outputs": [
    {
     "data": {
      "text/plain": [
       "<Axes: >"
      ]
     },
     "execution_count": 5,
     "metadata": {},
     "output_type": "execute_result"
    },
    {
     "data": {
      "image/png": "[encoded data removed]",
      "text/plain": [
       "<Figure size 640x480 with 1 Axes>"
      ]
     },
     "metadata": {},
     "output_type": "display_data"
    }
   ],
   "source": [
    "#df_macro.tail().head()\n",
    "df_macro['USD/CNY'].plot()"
   ]
  },
  {
   "cell_type": "code",
   "execution_count": 6,
   "id": "1953aabe-0832-4d2c-9b22-4b57b093a0f6",
   "metadata": {},
   "outputs": [],
   "source": [
    "idx = df_macro['USD/CNY'].idxmin()\n",
    "df_macro.loc[idx, 'USD/CNY'] = None"
   ]
  },
  {
   "cell_type": "markdown",
   "id": "3beac2f6-c7bd-4ff9-ad2c-ebfcbfaf593e",
   "metadata": {},
   "source": [
    "*Benchmark Interest Rate*\n",
    "- https://fred.stlouisfed.org/series/FEDFUNDS\n",
    "- https://data.ecb.europa.eu/main-figures/ecb-interest-rates-and-exchange-rates/key-ecb-interest-rates\n",
    "- https://kr.investing.com/rates-bonds/south-korea-10-year-bond-yield-historical-data\n",
    "- https://fred.stlouisfed.org/series/USREC"
   ]
  },
  {
   "cell_type": "code",
   "execution_count": 7,
   "id": "1ca9be3e-7f1d-4d30-9241-7a0a0dc007e7",
   "metadata": {},
   "outputs": [],
   "source": [
    "files = ['FEDFUNDS', 'ECBMRO', 'KR10Y', 'USREC'] \n",
    "cols = [0, 1, 0, 0]\n",
    "\n",
    "for f, c in zip(files, cols):\n",
    "    df_ff = pd.read_csv(f'data/{f}.csv', parse_dates=[0], index_col=0).rename_axis('date').iloc[:, c].rename(f)\n",
    "    df_macro = df_macro.join(df_ff)\n",
    "    \n",
    "df_macro = df_macro[df_macro.columns.sort_values()]"
   ]
  },
  {
   "cell_type": "code",
   "execution_count": 9,
   "id": "c61eea17-b7cd-4c7e-9e4a-b4a1bca95c24",
   "metadata": {},
   "outputs": [],
   "source": [
    "f = 'data/macro_indicators_250617.csv'\n",
    "df_macro.to_csv(f)"
   ]
  },
  {
   "cell_type": "markdown",
   "id": "c8984de4-9bb1-4d05-80d6-fd553079e5ee",
   "metadata": {},
   "source": [
    "## Review"
   ]
  },
  {
   "cell_type": "markdown",
   "id": "cb30c811-1500-487b-8063-267dc54cc81f",
   "metadata": {},
   "source": [
    "*Sampling*"
   ]
  },
  {
   "cell_type": "code",
   "execution_count": null,
   "id": "8b9049b0-f0ea-4876-b6c4-71e35917cf26",
   "metadata": {},
   "outputs": [],
   "source": [
    "df = df_macro.stack().swaplevel().rename_axis(['ticker', 'date']).sort_index()\n",
    "\n",
    "# Create a groupby on ticker and date.to_period('M')\n",
    "grouped = df.groupby([df.index.get_level_values('ticker'),\n",
    "                     df.index.get_level_values('date').to_period('M')])\n",
    "\n",
    "# Get the index (MultiIndex) of the max per group\n",
    "idx1 = grouped.idxmax()\n",
    "idx2 = grouped.idxmin()\n",
    "idx = pd.concat([idx1, idx2]).drop_duplicates()\n",
    "\n",
    "# Use .loc to extract the max values\n",
    "df = df.loc[idx].unstack('ticker').sort_index()\n",
    "df"
   ]
  },
  {
   "cell_type": "markdown",
   "id": "30d82d75-af90-44db-a1b3-f1c1e2ae56ff",
   "metadata": {},
   "source": [
    "*Normalize*"
   ]
  },
  {
   "cell_type": "code",
   "execution_count": 9,
   "id": "cc44aca9-5a1d-48a9-ac45-554329954cc9",
   "metadata": {},
   "outputs": [],
   "source": [
    "from sklearn.preprocessing import MinMaxScaler\n",
    "\n",
    "start, end = None, None\n",
    "#start, end = '2005', '2018'\n",
    "#start, end = '2018', '2022'\n",
    "\n",
    "df = df.loc[start:end]\n",
    "\n",
    "# Initialize scaler\n",
    "scaler = MinMaxScaler()\n",
    "\n",
    "# Fit and transform\n",
    "df = pd.DataFrame(scaler.fit_transform(df), columns=df.columns, index=df.index)"
   ]
  },
  {
   "cell_type": "code",
   "execution_count": null,
   "id": "f25750da-bc79-4ad7-907f-3f9449068faa",
   "metadata": {},
   "outputs": [],
   "source": [
    "# plot\n",
    "df = df.stack().rename('Normalized').rename_axis(['Date', 'Ticker']).reset_index()\n",
    "fig = px.line(df, x=\"Date\", y=\"Normalized\", color='Ticker', height=500)\n",
    "fig.update_traces(hovertemplate=None, line=dict(width=1))\n",
    "fig.update_layout(hovermode=\"x unified\")\n",
    "fig.show()"
   ]
  },
  {
   "cell_type": "markdown",
   "id": "1b8b4bfa-70ff-4187-bb84-5afee4f8b574",
   "metadata": {},
   "source": [
    "## Category"
   ]
  },
  {
   "cell_type": "code",
   "execution_count": 5,
   "id": "c551c1cd-dfd0-4ccd-bbeb-828590dfd60d",
   "metadata": {},
   "outputs": [
    {
     "data": {
      "text/plain": [
       "Index(['DAX30', 'DXY', 'ECBMRO', 'FEDFUNDS', 'FTSE100', 'GOLD', 'HSI', 'KOSPI',\n",
       "       'KR10Y', 'N225', 'S&P500', 'SSEC', 'STOXX50', 'US10YT', 'USD/CNY',\n",
       "       'USD/EUR', 'USD/JPY', 'USD/KRW', 'USREC', 'WTI'],\n",
       "      dtype='object')"
      ]
     },
     "execution_count": 5,
     "metadata": {},
     "output_type": "execute_result"
    }
   ],
   "source": [
    "import pandas as pd\n",
    "file = 'macro_indicators_250617.csv'\n",
    "path = 'data'\n",
    "df_macro = pd.read_csv(f'{path}/{file}', parse_dates=[0], index_col=0).rename_axis('date')\n",
    "df_macro.columns"
   ]
  },
  {
   "cell_type": "code",
   "execution_count": 6,
   "id": "1048bba9-15ec-424a-b3c6-6169811c3890",
   "metadata": {},
   "outputs": [
    {
     "data": {
      "text/plain": [
       "{'DAX30': 'market',\n",
       " 'DXY': 'exchange',\n",
       " 'ECBMRO': 'benchmark',\n",
       " 'FEDFUNDS': 'benchmark',\n",
       " 'FTSE100': 'market',\n",
       " 'GOLD': 'commodity',\n",
       " 'HSI': 'market',\n",
       " 'KOSPI': 'market',\n",
       " 'KR10Y': 'yield',\n",
       " 'N225': 'market',\n",
       " 'S&P500': 'market',\n",
       " 'SSEC': 'market',\n",
       " 'STOXX50': 'market',\n",
       " 'US10YT': 'yield',\n",
       " 'USD/CNY': 'exchange',\n",
       " 'USD/EUR': 'exchange',\n",
       " 'USD/JPY': 'exchange',\n",
       " 'USD/KRW': 'exchange',\n",
       " 'USREC': 'benchmark',\n",
       " 'WTI': 'commodity'}"
      ]
     },
     "execution_count": 6,
     "metadata": {},
     "output_type": "execute_result"
    }
   ],
   "source": [
    "cat = ['market', 'exchange', 'benchmark', 'benchmark', 'market', 'commodity', 'market', 'market', \n",
    "       'yield', 'market', 'market', 'market', 'market', 'yield', 'exchange',\n",
    "       'exchange', 'exchange', 'exchange', 'benchmark', 'commodity']\n",
    "\n",
    "cat = dict(zip(df_macro.columns, cat))\n",
    "cat"
   ]
  },
  {
   "cell_type": "code",
   "execution_count": 7,
   "id": "f35d0eb3-0ea2-4e28-922a-381c0b7f5639",
   "metadata": {},
   "outputs": [],
   "source": [
    "title = {\n",
    "    'DAX30': 'German Stock Index',\n",
    "    'DXY': 'U.S. Dollar Index',\n",
    "    'ECBMRO': 'ECB Interest Rates',\n",
    "    'FEDFUNDS': 'Federal Funds Effective Rate',\n",
    "    'FTSE100': 'FTSE 100 Index',\n",
    "    'GOLD': 'Gold Futures',\n",
    "    'HSI': 'Hang Seng Index',\n",
    "    'KOSPI': 'KOSPI',\n",
    "    'KR10Y': 'Korea Government Bonds 10 YR Yield',\n",
    "    'N225': 'Nikkei 225',\n",
    "    'S&P500': \"Standard and Poor's 500\",\n",
    "    'SSEC': 'Shanghai Stock Exchange',\n",
    "    'STOXX50': 'EURO STOXX 50',\n",
    "    'US10YT': '10-Year U.S. Treasury Bond Yield',\n",
    "    'USD/CNY': '1 USD to CNY',\n",
    "    'USD/EUR': '1 USD to EUR',\n",
    "    'USD/JPY': '1 USD to JPY',\n",
    "    'USD/KRW': '1 USD to KRW',\n",
    "    'USREC': 'Recession Indicators for the United States',\n",
    "    'WTI': 'West Texas Intermediate'\n",
    "}"
   ]
  },
  {
   "cell_type": "code",
   "execution_count": 9,
   "id": "85629652-8b69-4afd-af86-41cf7e5a4447",
   "metadata": {},
   "outputs": [],
   "source": [
    "file = 'macro_indicator_category_250617.csv'\n",
    "path = 'data'\n",
    "(pd.DataFrame.from_dict({'category':cat, 'title':title}, orient='columns').rename_axis('indicator')\n",
    " .to_csv(f'{path}/{file}')\n",
    ")"
   ]
  },
  {
   "cell_type": "markdown",
   "id": "2ee86279-5bb9-4518-ad94-b2a351d88f52",
   "metadata": {},
   "source": [
    "# Visualization"
   ]
  },
  {
   "cell_type": "code",
   "execution_count": 1,
   "id": "200be975-f612-4f4b-a624-9886c40ef948",
   "metadata": {},
   "outputs": [],
   "source": [
    "from pf_macro import app"
   ]
  },
  {
   "cell_type": "code",
   "execution_count": 2,
   "id": "24674bb8-48ff-4519-8460-a27ba3fe422a",
   "metadata": {},
   "outputs": [
    {
     "data": {
      "text/html": [
       "\n",
       "        <iframe\n",
       "            width=\"100%\"\n",
       "            height=\"650\"\n",
       "            src=\"http://127.0.0.1:8100/\"\n",
       "            frameborder=\"0\"\n",
       "            allowfullscreen\n",
       "            \n",
       "        ></iframe>\n",
       "        "
      ],
      "text/plain": [
       "<IPython.lib.display.IFrame at 0x75e948a2bda0>"
      ]
     },
     "metadata": {},
     "output_type": "display_data"
    }
   ],
   "source": [
    "app.run_server(debug=True, port=8100)"
   ]
  },
  {
   "cell_type": "code",
   "execution_count": null,
   "id": "76f5c03d-04b3-4362-abad-612ac6bdbe92",
   "metadata": {},
   "outputs": [],
   "source": []
  },
  {
   "cell_type": "markdown",
   "id": "a484825c-cdc2-4058-9e50-fbeb152b64b9",
   "metadata": {},
   "source": [
    "# testing"
   ]
  },
  {
   "cell_type": "code",
   "execution_count": null,
   "id": "68a32a96-8af7-40b9-9b27-949a23bfe502",
   "metadata": {},
   "outputs": [],
   "source": []
  },
  {
   "cell_type": "code",
   "execution_count": 6,
   "id": "69b907a7-e863-46bc-97f8-14f91642baf7",
   "metadata": {},
   "outputs": [],
   "source": [
    "tkr = '^STOXX50E'\n",
    "tkr = 'GC=F'\n",
    "df = fdr.DataReader(tkr)"
   ]
  },
  {
   "cell_type": "code",
   "execution_count": 11,
   "id": "900e59d0-5e52-4c85-ba38-eec6988771fb",
   "metadata": {},
   "outputs": [
    {
     "data": {
      "text/plain": [
       "2025"
      ]
     },
     "execution_count": 11,
     "metadata": {},
     "output_type": "execute_result"
    }
   ],
   "source": [
    "df.index.max().year"
   ]
  },
  {
   "cell_type": "code",
   "execution_count": null,
   "id": "a1f7ea96-e530-48c0-9788-5544f6ddcf0b",
   "metadata": {},
   "outputs": [],
   "source": [
    "from sklearn.preprocessing import MinMaxScaler\n",
    "\n",
    "#start, end = None, None\n",
    "#start, end = '2005', '2018'\n",
    "start, end = '2018', '2022'\n",
    "window = 1\n",
    "\n",
    "df = df_macro.loc[start:end]\n",
    "\n",
    "# Initialize scaler\n",
    "scaler = MinMaxScaler()\n",
    "\n",
    "# Fit and transform\n",
    "df = pd.DataFrame(scaler.fit_transform(df), columns=df.columns, index=df.index)\n",
    "\n",
    "# Normalize\n",
    "df[names] = df[names].apply(lambda x: x.ffill().dropna().rolling(window=window, center=True).mean())\n",
    "df = df.dropna(how='all').ffill()\n",
    "\n",
    "# plot\n",
    "df = df.stack().rename('Normalized').rename_axis(['Date', 'Ticker']).reset_index()\n",
    "fig = px.line(df, x=\"Date\", y=\"Normalized\", color='Ticker', height=500)\n",
    "fig.update_traces(hovertemplate=None, line=dict(width=1))\n",
    "fig.update_layout(hovermode=\"x unified\")\n",
    "fig.show()"
   ]
  },
  {
   "cell_type": "code",
   "execution_count": 4,
   "id": "5818c618-5f4c-4079-89a9-df277cdb1bf8",
   "metadata": {},
   "outputs": [
    {
     "data": {
      "text/html": [
       "<div>\n",
       "<style scoped>\n",
       "    .dataframe tbody tr th:only-of-type {\n",
       "        vertical-align: middle;\n",
       "    }\n",
       "\n",
       "    .dataframe tbody tr th {\n",
       "        vertical-align: top;\n",
       "    }\n",
       "\n",
       "    .dataframe thead th {\n",
       "        text-align: right;\n",
       "    }\n",
       "</style>\n",
       "<table border=\"1\" class=\"dataframe\">\n",
       "  <thead>\n",
       "    <tr style=\"text-align: right;\">\n",
       "      <th></th>\n",
       "      <th>category</th>\n",
       "    </tr>\n",
       "    <tr>\n",
       "      <th>indicator</th>\n",
       "      <th></th>\n",
       "    </tr>\n",
       "  </thead>\n",
       "  <tbody>\n",
       "    <tr>\n",
       "      <th>DAX30</th>\n",
       "      <td>market</td>\n",
       "    </tr>\n",
       "    <tr>\n",
       "      <th>DXY</th>\n",
       "      <td>rate</td>\n",
       "    </tr>\n",
       "    <tr>\n",
       "      <th>ECBMRO</th>\n",
       "      <td>exchange</td>\n",
       "    </tr>\n",
       "    <tr>\n",
       "      <th>FEDFUNDS</th>\n",
       "      <td>rate</td>\n",
       "    </tr>\n",
       "    <tr>\n",
       "      <th>FTSE100</th>\n",
       "      <td>market</td>\n",
       "    </tr>\n",
       "    <tr>\n",
       "      <th>GOLD</th>\n",
       "      <td>commodity</td>\n",
       "    </tr>\n",
       "    <tr>\n",
       "      <th>HSI</th>\n",
       "      <td>market</td>\n",
       "    </tr>\n",
       "    <tr>\n",
       "      <th>KOSPI</th>\n",
       "      <td>market</td>\n",
       "    </tr>\n",
       "    <tr>\n",
       "      <th>KR10Y</th>\n",
       "      <td>rate</td>\n",
       "    </tr>\n",
       "    <tr>\n",
       "      <th>N225</th>\n",
       "      <td>market</td>\n",
       "    </tr>\n",
       "    <tr>\n",
       "      <th>S&amp;P500</th>\n",
       "      <td>market</td>\n",
       "    </tr>\n",
       "    <tr>\n",
       "      <th>SSEC</th>\n",
       "      <td>market</td>\n",
       "    </tr>\n",
       "    <tr>\n",
       "      <th>STOXX50</th>\n",
       "      <td>market</td>\n",
       "    </tr>\n",
       "    <tr>\n",
       "      <th>US10YT</th>\n",
       "      <td>rate</td>\n",
       "    </tr>\n",
       "    <tr>\n",
       "      <th>USD/CNY</th>\n",
       "      <td>exchange</td>\n",
       "    </tr>\n",
       "    <tr>\n",
       "      <th>USD/EUR</th>\n",
       "      <td>exchange</td>\n",
       "    </tr>\n",
       "    <tr>\n",
       "      <th>USD/JPY</th>\n",
       "      <td>exchange</td>\n",
       "    </tr>\n",
       "    <tr>\n",
       "      <th>USD/KRW</th>\n",
       "      <td>exchange</td>\n",
       "    </tr>\n",
       "    <tr>\n",
       "      <th>WTI</th>\n",
       "      <td>commodity</td>\n",
       "    </tr>\n",
       "  </tbody>\n",
       "</table>\n",
       "</div>"
      ],
      "text/plain": [
       "            category\n",
       "indicator           \n",
       "DAX30         market\n",
       "DXY             rate\n",
       "ECBMRO      exchange\n",
       "FEDFUNDS        rate\n",
       "FTSE100       market\n",
       "GOLD       commodity\n",
       "HSI           market\n",
       "KOSPI         market\n",
       "KR10Y           rate\n",
       "N225          market\n",
       "S&P500        market\n",
       "SSEC          market\n",
       "STOXX50       market\n",
       "US10YT          rate\n",
       "USD/CNY     exchange\n",
       "USD/EUR     exchange\n",
       "USD/JPY     exchange\n",
       "USD/KRW     exchange\n",
       "WTI        commodity"
      ]
     },
     "execution_count": 4,
     "metadata": {},
     "output_type": "execute_result"
    }
   ],
   "source": [
    "import pandas as pd\n",
    "\n",
    "# category\n",
    "file = 'macro_indicator_category_250610.csv'\n",
    "path = 'data'\n",
    "data_category = pd.read_csv(f'{path}/{file}', index_col=0)\n",
    "data_category"
   ]
  },
  {
   "cell_type": "code",
   "execution_count": 5,
   "id": "1a548be2-aad9-40af-ae23-04cf160e2163",
   "metadata": {},
   "outputs": [
    {
     "data": {
      "text/plain": [
       "{'DAX30': 'German Stock Index',\n",
       " 'DXY': 'U.S. Dollar Index',\n",
       " 'ECBMRO': 'ECB Interest Rates',\n",
       " 'FEDFUNDS': 'Federal Funds Effective Rate',\n",
       " 'FTSE100': 'FTSE 100 Index',\n",
       " 'GOLD': 'Gold Futures',\n",
       " 'HSI': 'Hang Seng Index',\n",
       " 'KOSPI': 'KOSPI',\n",
       " 'KR10Y': 'Korea Government Bonds 10 YR Yield',\n",
       " 'N225': 'Nikkei 225',\n",
       " 'S&P500': \"Standard and Poor's 500\",\n",
       " 'SSEC': 'Shanghai Stock Exchange',\n",
       " 'STOXX50': 'EURO STOXX 50',\n",
       " 'US10YT': '10-Year U.S. Treasury Bond Yield',\n",
       " 'USD/CNY': '1 USD to CNY',\n",
       " 'USD/EUR': '1 USD to EUR',\n",
       " 'USD/JPY': '1 USD to JPY',\n",
       " 'USD/KRW': '1 USD to KRW',\n",
       " 'WTI': 'West Texas Intermediate'}"
      ]
     },
     "execution_count": 5,
     "metadata": {},
     "output_type": "execute_result"
    }
   ],
   "source": [
    "file = 'macro_indicator_category_250610.csv'\n",
    "path = 'data'\n",
    "df = pd.read_csv(f'{path}/{file}', index_col=0)\n",
    "data_category = df['category'].to_dict()\n",
    "titles = df['title'].to_dict()\n",
    "titles"
   ]
  },
  {
   "cell_type": "code",
   "execution_count": 9,
   "id": "809cf928-bcf3-41a0-a699-61dd3f27e871",
   "metadata": {},
   "outputs": [
    {
     "name": "stdout",
     "output_type": "stream",
     "text": [
      "      Name  Age\n",
      "0    Alice   25\n",
      "1      Bob   30\n",
      "2  Charlie   22\n"
     ]
    }
   ],
   "source": [
    "import pandas as pd\n",
    "\n",
    "# Your original dicts\n",
    "dict1 = {0: 'Alice', 1: 'Bob', 2: 'Charlie'}\n",
    "dict2 = {0: 25, 1: 30, 2: 22}\n",
    "\n",
    "# Combine them into a dict of columns\n",
    "data = {\n",
    "    'Name': dict1,\n",
    "    'Age': dict2\n",
    "}\n",
    "\n",
    "# Create DataFrame with orient='index', then transpose\n",
    "df = pd.DataFrame.from_dict(data, orient='columns')\n",
    "\n",
    "print(df)"
   ]
  },
  {
   "cell_type": "code",
   "execution_count": null,
   "id": "08268acb-3fa0-4598-9b64-d87bcbb2d10e",
   "metadata": {},
   "outputs": [],
   "source": []
  }
 ],
 "metadata": {
  "kernelspec": {
   "display_name": "portfolio",
   "language": "python",
   "name": "portfolio"
  },
  "language_info": {
   "codemirror_mode": {
    "name": "ipython",
    "version": 3
   },
   "file_extension": ".py",
   "mimetype": "text/x-python",
   "name": "python",
   "nbconvert_exporter": "python",
   "pygments_lexer": "ipython3",
   "version": "3.12.1"
  }
 },
 "nbformat": 4,
 "nbformat_minor": 5
}
